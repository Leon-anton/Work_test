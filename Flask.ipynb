{
 "cells": [
  {
   "cell_type": "markdown",
   "id": "76f6ccd5",
   "metadata": {},
   "source": [
    "# Приложение для демонстрации"
   ]
  },
  {
   "cell_type": "markdown",
   "id": "0c9cc339",
   "metadata": {},
   "source": [
    "**Примечание:** Flask-приложения, которые необходимо разворачивать на сервере, создаются в виде файлов с расширением .py\n",
    "\n",
    "В данном уроке используется формат Jupyter Notebook исключительно для удобства *демонстрации*"
   ]
  },
  {
   "cell_type": "code",
   "execution_count": null,
   "id": "9c16a80e",
   "metadata": {},
   "outputs": [],
   "source": []
  },
  {
   "cell_type": "code",
   "execution_count": null,
   "id": "629495f8",
   "metadata": {},
   "outputs": [
    {
     "name": "stdout",
     "output_type": "stream",
     "text": [
      " * Serving Flask app \"__main__\" (lazy loading)\n",
      " * Environment: production\n",
      "\u001b[31m   WARNING: This is a development server. Do not use it in a production deployment.\u001b[0m\n",
      "\u001b[2m   Use a production WSGI server instead.\u001b[0m\n",
      " * Debug mode: off\n"
     ]
    },
    {
     "name": "stderr",
     "output_type": "stream",
     "text": [
      " * Running on http://127.0.0.1:5000/ (Press CTRL+C to quit)\n"
     ]
    }
   ],
   "source": [
    "from flask import Flask, render_template, request\n",
    "# псевдокод:\n",
    "# из файла my_module.py импортируем функции\n",
    "# from my_module import func1, func2, ...\n",
    "# Например: model.py, preprocessing.py, visualisation.py | postprocessing.py\n",
    "\n",
    "app = Flask(__name__)\n",
    "\n",
    "\n",
    "# псевдокод\n",
    "# def get_model():\n",
    "#     return model\n",
    "#-----------------\n",
    "\n",
    "\n",
    "def check_username(username, password):\n",
    "    if len(username) < 3:\n",
    "        message = \"Incorrect username\"\n",
    "    else:\n",
    "        message = f\"User {username} has password {password}\"\n",
    "    return message\n",
    "\n",
    "\n",
    "@app.route(\"/\")\n",
    "def index():\n",
    "    return \"Главная страница\"\n",
    "\n",
    "\n",
    "@app.route(\"/login/\", methods=[\"post\", \"get\"])\n",
    "def get_password():\n",
    "#     model = get_model()\n",
    "    message = \"Test\"\n",
    "    \n",
    "    if request.method == \"POST\":\n",
    "        u = request.form.get(\"username\")\n",
    "        p = request.form.get(\"password\")\n",
    "        \n",
    "        message = check_username(u, p)\n",
    "    \n",
    "    return render_template(\"login.html\", message=message)\n",
    "\n",
    "\n",
    "app.run()"
   ]
  },
  {
   "cell_type": "code",
   "execution_count": null,
   "id": "8e63f1d0",
   "metadata": {},
   "outputs": [],
   "source": []
  },
  {
   "cell_type": "code",
   "execution_count": null,
   "id": "5470245c",
   "metadata": {},
   "outputs": [],
   "source": []
  },
  {
   "cell_type": "code",
   "execution_count": null,
   "id": "56614f76",
   "metadata": {},
   "outputs": [],
   "source": []
  }
 ],
 "metadata": {
  "kernelspec": {
   "display_name": "Python 3 (ipykernel)",
   "language": "python",
   "name": "python3"
  },
  "language_info": {
   "codemirror_mode": {
    "name": "ipython",
    "version": 3
   },
   "file_extension": ".py",
   "mimetype": "text/x-python",
   "name": "python",
   "nbconvert_exporter": "python",
   "pygments_lexer": "ipython3",
   "version": "3.9.13"
  }
 },
 "nbformat": 4,
 "nbformat_minor": 5
}
