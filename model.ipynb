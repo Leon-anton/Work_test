{
 "cells": [
  {
   "cell_type": "code",
   "execution_count": null,
   "id": "11e4a510",
   "metadata": {},
   "outputs": [],
   "source": [
    "# 2 скрытых слоя по 8 нейронов.\n",
    "\n",
    "# ИМПОРТ\n",
    "#import tensorflow_decision_forests as tfdf\n",
    "\n",
    "import os\n",
    "import tensorflow as tf\n",
    "import math\n",
    "\n",
    "import pandas as pd \n",
    "import numpy as np\n",
    "import scipy\n",
    "\n",
    "# sklearn\n",
    "from sklearn.model_selection import train_test_split\n",
    "from sklearn.preprocessing import LabelEncoder\n",
    "from sklearn.metrics import accuracy_score\n",
    "\n",
    "# tensor flow - глубокое обучение\n",
    "from tensorflow.keras import Sequential\n",
    "from tensorflow.keras.layers import Dense\n",
    "from tensorflow.keras import layers\n",
    "from tensorflow.keras.preprocessing import image_dataset_from_directory\n",
    "\n",
    "\n",
    "# для визуализации\n",
    "from matplotlib import pyplot\n",
    "\n",
    "%matplotlib inline"
   ]
  },
  {
   "cell_type": "code",
   "execution_count": null,
   "id": "c9e7461e",
   "metadata": {},
   "outputs": [],
   "source": [
    "# ЗАГРУЗКА ФАЙЛОВ\n",
    "path = r'C:\\users\\leon-\\BKP\\data\\inner.xlsx'\n",
    "df = pd.read_excel(path, header=0, index_col = 0)\n",
    "\n",
    "df.head(10)"
   ]
  },
  {
   "cell_type": "code",
   "execution_count": null,
   "id": "211031b3",
   "metadata": {},
   "outputs": [],
   "source": [
    "### описательная статистика\n",
    "\n",
    "\n",
    "df.describe() # распределение признаков"
   ]
  },
  {
   "cell_type": "code",
   "execution_count": null,
   "id": "482d3619",
   "metadata": {},
   "outputs": [],
   "source": [
    "df.corr() # коэфициент корреляции"
   ]
  },
  {
   "cell_type": "code",
   "execution_count": null,
   "id": "22e8abda",
   "metadata": {},
   "outputs": [],
   "source": [
    "df.info() # общая информация о датасете и типы данных"
   ]
  },
  {
   "cell_type": "code",
   "execution_count": null,
   "id": "0da2beaf",
   "metadata": {},
   "outputs": [],
   "source": [
    "df['Угол нашивки'].value_counts() \n",
    "# информация о первом столбце - 0, и количество уникальных значений, \n",
    "# можно перебирать столбцы чтобы найти примерно равное значение признаков 50/50"
   ]
  },
  {
   "cell_type": "code",
   "execution_count": null,
   "id": "5673dde2",
   "metadata": {},
   "outputs": [],
   "source": [
    "##Создание выборок\n",
    "# Создаем х и у\n",
    "X, y = df.values[:, : -1], df.values[:, -1]"
   ]
  },
  {
   "cell_type": "code",
   "execution_count": null,
   "id": "61ba321c",
   "metadata": {},
   "outputs": [],
   "source": [
    "# Убедимся что данные предоставлены числами с плавающей точкой\n",
    "X = X.astype('float') # приводим значения к Float"
   ]
  },
  {
   "cell_type": "code",
   "execution_count": null,
   "id": "c3638a60",
   "metadata": {},
   "outputs": [],
   "source": [
    "y[1] #целевая перемнная"
   ]
  },
  {
   "cell_type": "code",
   "execution_count": null,
   "id": "d73e440b",
   "metadata": {},
   "outputs": [],
   "source": [
    "X[1]"
   ]
  },
  {
   "cell_type": "code",
   "execution_count": null,
   "id": "c7838f0c",
   "metadata": {},
   "outputs": [],
   "source": [
    "#LabelEncoder для у\n",
    "\n",
    "y= LabelEncoder().fit_transform(y) #обучим у командой fit_transform"
   ]
  },
  {
   "cell_type": "code",
   "execution_count": null,
   "id": "8ab1485c",
   "metadata": {},
   "outputs": [],
   "source": [
    "# Создание тестовой и обучающей выборки\n",
    "\n",
    "X_train, X_test, y_train, y_test = train_test_split(X, y, test_size= 0.25, shuffle = True)\n",
    "# X, y - передаем параметры, test_size= 0.25 - размер тестовой выборки, shuffle = true -перемешивание датасета"
   ]
  },
  {
   "cell_type": "code",
   "execution_count": null,
   "id": "dffd3c5a",
   "metadata": {},
   "outputs": [],
   "source": [
    "print(X_train.shape) #проверим размерность выборок должно совпадать\n",
    "print(X_test.shape)\n",
    "print(y_train.shape)\n",
    "print(y_test.shape)"
   ]
  },
  {
   "cell_type": "code",
   "execution_count": null,
   "id": "d2e5d99d",
   "metadata": {},
   "outputs": [],
   "source": []
  },
  {
   "cell_type": "code",
   "execution_count": null,
   "id": "6d87f510",
   "metadata": {},
   "outputs": [],
   "source": [
    "#Нейронная сеть\n",
    "n_features = X.shape[1] # размерность Х\n",
    "\n",
    "model = Sequential() # модель последовательная\n",
    "\n",
    "model.add(Dense(20, activation = 'relu', input_shape = (n_features, ))) # input_shape -  Входная размерность в Х]\n",
    "model.add(Dense(10, activation = 'relu'))\n",
    "\n",
    "#model.add(Dense(8, activation = 'relu'))\n",
    "\n",
    "# выходной слой\n",
    "model.add(Dense(1, activation = 'sigmoid'))\n",
    "\n",
    "# Компилирование \n",
    "model.compile(optimizer = 'adam', loss = 'binary_crossentropy')\n",
    "\n",
    "\n",
    "# Обучение модели\n",
    "\n",
    "history = model.fit(X_train, y_train,\n",
    "                    epochs = 20,\n",
    "                    batch_size = 32,\n",
    "                    verbose = 1,\n",
    "                    validation_data = (X_test, y_test))\n",
    "\n",
    "# predict test_set\n",
    "yhat = model.predict(y_test)\n",
    "#model.predict(tf_serving_dataset, verbose=0)[:10]\n",
    "\n",
    "# подсчет прогноза\n",
    "score = accuracy_score(y_test, yhat)\n",
    "print ('Accuracy: ', score)\n",
    "# визуализация процесса обучения\n",
    "pyplot.title('Обучение')\n",
    "pyplot.xlabel('epochs') # по оси х - эпохи\n",
    "pyplot.ylabel('Cross_entropy') # по оси у - ошибка\n",
    "pyplot.plot(history.history['loss'], label = 'train')\n",
    "pyplot.plot(history.history['val_loss'], label = 'val')\n",
    "pyplot.legend()\n",
    "pyplot.show()"
   ]
  },
  {
   "cell_type": "code",
   "execution_count": null,
   "id": "5d12fc4f",
   "metadata": {},
   "outputs": [],
   "source": []
  }
 ],
 "metadata": {
  "kernelspec": {
   "display_name": "Python 3 (ipykernel)",
   "language": "python",
   "name": "python3"
  },
  "language_info": {
   "codemirror_mode": {
    "name": "ipython",
    "version": 3
   },
   "file_extension": ".py",
   "mimetype": "text/x-python",
   "name": "python",
   "nbconvert_exporter": "python",
   "pygments_lexer": "ipython3",
   "version": "3.9.13"
  }
 },
 "nbformat": 4,
 "nbformat_minor": 5
}
