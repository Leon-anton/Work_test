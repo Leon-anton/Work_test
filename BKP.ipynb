{
 "cells": [
  {
   "cell_type": "code",
   "execution_count": null,
   "id": "98a60b1d",
   "metadata": {},
   "outputs": [],
   "source": [
    "import numpy as np\n",
    "import pandas as pd\n",
    "import matplotlib.pyplot as plt\n",
    "import tensorflow as tf\n",
    "import seaborn as sns\n",
    "import plotly.express as px\n",
    "import tensorflow as tf\n",
    "import sklearn\n",
    "\n",
    "from sklearn import linear_model\n",
    "from sklearn.ensemble import RandomForestRegressor, GradientBoostingRegressor\n",
    "from sklearn.linear_model import LinearRegression, LogisticRegression, SGDRegressor\n",
    "from sklearn.metrics import mean_squared_error, r2_score, mean_absolute_percentage_error, mean_absolute_error\n",
    "from sklearn.model_selection import train_test_split, GridSearchCV, KFold, cross_val_score\n",
    "from sklearn.neighbors import KNeighborsRegressor\n",
    "from sklearn.neural_network import MLPRegressor\n",
    "from sklearn.pipeline import make_pipeline, Pipeline\n",
    "from sklearn import preprocessing\n",
    "from sklearn.preprocessing import Normalizer, LabelEncoder, MinMaxScaler, StandardScaler\n",
    "from sklearn.svm import SVR\n",
    "from sklearn.tree import DecisionTreeRegressor\n",
    "\n",
    "from sklearn.neighbors import KNeighborsRegressor\n",
    "from sklearn.linear_model import LinearRegression, SGDRegressor\n",
    "from sklearn.neural_network import MLPRegressor\n",
    "from sklearn.ensemble import RandomForestRegressor\n",
    "from sklearn.model_selection import train_test_split\n",
    "from sklearn.metrics import mean_absolute_error\n",
    "from sklearn.model_selection import GridSearchCV, RandomizedSearchCV\n",
    "\n",
    "from tensorflow import keras as keras\n",
    "from tensorflow.keras import layers\n",
    "from tensorflow.keras.layers import Dense, Flatten, Dropout, BatchNormalization, Activation\n",
    "from pandas import read_excel, DataFrame, Series\n",
    "from keras.wrappers.scikit_learn import KerasClassifier, KerasRegressor\n",
    "from tensorflow.keras.models import Sequential\n",
    "from numpy.random import seed\n",
    "from scipy import stats\n",
    "import warnings\n",
    "warnings.filterwarnings(\"ignore\")"
   ]
  },
  {
   "cell_type": "code",
   "execution_count": null,
   "id": "9484de71",
   "metadata": {},
   "outputs": [],
   "source": [
    "#Загружаем первый датасет (базальтопластик) и посмотрим на названия столбцов\n",
    "df_bp = pd.read_excel(r\"C:\\Users\\leon-\\BKP\\data\\X_bp.xlsx\")\n",
    "df_bp.shape"
   ]
  },
  {
   "cell_type": "code",
   "execution_count": null,
   "id": "b60000b9",
   "metadata": {},
   "outputs": [],
   "source": [
    "df_bp # выведем датасет для наглядности в виде таблицы"
   ]
  },
  {
   "cell_type": "code",
   "execution_count": null,
   "id": "81a23e3e",
   "metadata": {},
   "outputs": [],
   "source": [
    "#Удаляем первый неинформативный столбец\n",
    "df_bp.drop(['Unnamed: 0'], axis=1, inplace=True)\n",
    "#Посмотрим на первые 5 строк первого датасета и убедимся, что первый столбец удалился\n",
    "df_bp.head()"
   ]
  },
  {
   "cell_type": "code",
   "execution_count": null,
   "id": "c5ce77ef",
   "metadata": {},
   "outputs": [],
   "source": [
    "# Проверим размерность первого файла\n",
    "df_bp.shape"
   ]
  },
  {
   "cell_type": "code",
   "execution_count": null,
   "id": "4e242079",
   "metadata": {},
   "outputs": [],
   "source": [
    "# Загружаем второй датасет \n",
    "df_nup = pd.read_excel(r\"C:\\Users\\leon-\\BKP\\data\\X_nup.xlsx\")\n",
    "df_nup.shape"
   ]
  },
  {
   "cell_type": "code",
   "execution_count": null,
   "id": "3e39a27d",
   "metadata": {},
   "outputs": [],
   "source": [
    "df_nup # выведем датасет для наглядности в виде таблицы"
   ]
  },
  {
   "cell_type": "code",
   "execution_count": null,
   "id": "4edc0fde",
   "metadata": {},
   "outputs": [],
   "source": [
    "# Удаляем первый неинформативный столбец\n",
    "df_nup.drop(['Unnamed: 0'], axis=1, inplace=True)\n",
    "# Посмотрим на первые 5 строк второго датасета и убедимся,\n",
    "# что и здесь не нужный первый столбец успешно удалился\n",
    "df_nup.head()"
   ]
  },
  {
   "cell_type": "code",
   "execution_count": null,
   "id": "be5dd73c",
   "metadata": {},
   "outputs": [],
   "source": [
    "# Проверим размерность второго файла\n",
    "df_nup.shape"
   ]
  },
  {
   "cell_type": "code",
   "execution_count": null,
   "id": "e114595c",
   "metadata": {},
   "outputs": [],
   "source": [
    "# По условию задачи нужно объединить датсеты по типу 'inner'. \n",
    "df = df_bp.merge(df_nup, left_index = True, right_index = True, how = 'inner')\n",
    "df.head().T"
   ]
  },
  {
   "cell_type": "code",
   "execution_count": null,
   "id": "3b50dcac",
   "metadata": {},
   "outputs": [],
   "source": [
    "#Посмотрим количество колонок и столбцов\n",
    "df.shape"
   ]
  },
  {
   "cell_type": "code",
   "execution_count": null,
   "id": "d87487cd",
   "metadata": {
    "scrolled": true
   },
   "outputs": [],
   "source": [
    "# дубликаты значений отсутствуют\n",
    "df.duplicated().sum()"
   ]
  },
  {
   "cell_type": "code",
   "execution_count": null,
   "id": "920c0528",
   "metadata": {
    "scrolled": true
   },
   "outputs": [],
   "source": [
    "df.columns"
   ]
  },
  {
   "cell_type": "code",
   "execution_count": null,
   "id": "46a74cb8",
   "metadata": {},
   "outputs": [],
   "source": [
    "# дубликаты значений обнаружены в столбцах: Шаг нашивки и Плотность нашивки, но это не критично\n",
    "du = df.duplicated(['Шаг нашивки', 'Плотность нашивки']).sum()\n",
    "\n",
    "print(du)"
   ]
  },
  {
   "cell_type": "code",
   "execution_count": null,
   "id": "ae91cd95",
   "metadata": {},
   "outputs": [],
   "source": [
    "# Посмотрим на начальные и конечные строки нашего датасета на данном этапе работы\n",
    "df"
   ]
  },
  {
   "cell_type": "code",
   "execution_count": null,
   "id": "10307d79",
   "metadata": {},
   "outputs": [],
   "source": []
  },
  {
   "cell_type": "code",
   "execution_count": null,
   "id": "776a13e9",
   "metadata": {
    "scrolled": true
   },
   "outputs": [],
   "source": [
    "df.info() \n",
    "# нет пустых значений, количество «Not null» совпадает с количеством строк в датасете, а именно 1023."
   ]
  },
  {
   "cell_type": "code",
   "execution_count": null,
   "id": "b4f81066",
   "metadata": {
    "scrolled": false
   },
   "outputs": [],
   "source": [
    "df.nunique() # Далее проверим уникальность значений в датасете командой df.nunique()"
   ]
  },
  {
   "cell_type": "code",
   "execution_count": null,
   "id": "3ba5006e",
   "metadata": {},
   "outputs": [],
   "source": [
    "df['Угол нашивки, град'].count\n",
    "# Выведем значения с помошью df['Угол нашивки, град'].count\n",
    "# И увидим эти 2 значения \"0\" и \"90\"."
   ]
  },
  {
   "cell_type": "code",
   "execution_count": null,
   "id": "dc09f3c8",
   "metadata": {},
   "outputs": [],
   "source": [
    "# Проверим кол-во элементов в столбцах"
   ]
  },
  {
   "cell_type": "code",
   "execution_count": null,
   "id": "46e8f3f9",
   "metadata": {},
   "outputs": [],
   "source": [
    "df['Угол нашивки, град'][df['Угол нашивки, град'] == 0.0].count()"
   ]
  },
  {
   "cell_type": "code",
   "execution_count": null,
   "id": "fafb20d7",
   "metadata": {},
   "outputs": [],
   "source": [
    "df['Угол нашивки, град'][df['Угол нашивки, град'] == 90.0].count()"
   ]
  },
  {
   "cell_type": "code",
   "execution_count": null,
   "id": "9afd87fe",
   "metadata": {},
   "outputs": [],
   "source": [
    "# Приведем столбец \"Угол нашивки\" к значениям 0 и 1\n",
    "df = df.replace({'Угол нашивки, град': {0.0 : 0, 90.0 : 1}})\n",
    "# Приведем столбец \"Угол нашивки\" к типу int\n",
    "df['Угол нашивки, град'] = df['Угол нашивки, град'].astype(int)"
   ]
  },
  {
   "cell_type": "code",
   "execution_count": null,
   "id": "0732c576",
   "metadata": {},
   "outputs": [],
   "source": [
    "# Переименуем столбец в 'Угол нашивки_мод'\n",
    "df = df.rename(columns={'Угол нашивки, град' : 'Угол нашивки_мод'})\n",
    "df"
   ]
  },
  {
   "cell_type": "code",
   "execution_count": null,
   "id": "c668bd07",
   "metadata": {},
   "outputs": [],
   "source": [
    "# Перепроверим количество значений в столбце равный \"0\", значения совпадают. \n",
    "df['Угол нашивки_мод'][df['Угол нашивки_мод'] == 0.0].count()"
   ]
  },
  {
   "cell_type": "code",
   "execution_count": null,
   "id": "3f9958c3",
   "metadata": {},
   "outputs": [],
   "source": [
    "# Переведем столбец с нумерацией в int\n",
    "df.index = df.index.astype('int')"
   ]
  },
  {
   "cell_type": "code",
   "execution_count": null,
   "id": "b867f834",
   "metadata": {},
   "outputs": [],
   "source": [
    "# Сохраним датасет в папку data с название inner.xlsx.\n",
    "df.to_excel(\"data\\inner.xlsx\")"
   ]
  },
  {
   "cell_type": "code",
   "execution_count": null,
   "id": "950a56c2",
   "metadata": {},
   "outputs": [],
   "source": [
    "# Команда \"describe\" выводит статистику наших данных:\n",
    "# общее количество, среднее значение, стандартное отклонение,\n",
    "# минимальное, квартили, медиана, максимальное.\n",
    "df.describe()\n",
    "a =df.describe().round(2)\n",
    "a.T"
   ]
  },
  {
   "cell_type": "code",
   "execution_count": null,
   "id": "a85450e3",
   "metadata": {},
   "outputs": [],
   "source": [
    "df.isnull().sum()\n",
    "# Пропущенных данных нет."
   ]
  },
  {
   "cell_type": "code",
   "execution_count": null,
   "id": "a1666114",
   "metadata": {},
   "outputs": [],
   "source": [
    "# Проверим датасет на дубликаты\n",
    "df.duplicated().sum()\n",
    "#Дубликатов нет"
   ]
  },
  {
   "cell_type": "code",
   "execution_count": null,
   "id": "f7dc4501",
   "metadata": {},
   "outputs": [],
   "source": [
    "# Корреляция по методу Кендалла.\n",
    "df.corr(method = 'kendall').round(2)\n"
   ]
  },
  {
   "cell_type": "code",
   "execution_count": null,
   "id": "e4fe1cb9",
   "metadata": {},
   "outputs": [],
   "source": [
    "# Корреляция по методу Пирсона.\n",
    "df.corr(method ='pearson').round(2)"
   ]
  },
  {
   "cell_type": "code",
   "execution_count": null,
   "id": "d47bf3a9",
   "metadata": {},
   "outputs": [],
   "source": [
    "# Тепловая карта коэффициентов корреляции. Вариант 1\n",
    "fig, ax = plt.subplots(figsize=(10,5))\n",
    "sns.heatmap(df.corr(), linewidths= .2, square=True, cmap='coolwarm' )"
   ]
  },
  {
   "cell_type": "code",
   "execution_count": null,
   "id": "c90edf93",
   "metadata": {},
   "outputs": [],
   "source": [
    "# Тепловая карта коэффициентов корреляции. Вариант 2\n",
    "# переменная для построения тепловой карты.\n",
    "Heat_Map = np.tril(df.corr()) # np.tril возвращает верхний треугольник любой заданной ему матрицы\n",
    "# указываем размеры для отображения\n",
    "f, ax = plt.subplots(figsize = (12, 9))\n",
    "# передаем параметры в heatmap и создаем цветовую палитру\n",
    "sns.heatmap(df.corr(), mask = Heat_Map, annot = True, square = True, cmap = 'coolwarm', linewidths=1, linecolor='white')\n",
    "plt.xticks(rotation = -45, ha='left') # поворачиваем надпись на 45 градусов влево.\n",
    "plt.show()"
   ]
  },
  {
   "cell_type": "code",
   "execution_count": null,
   "id": "8812b3f7",
   "metadata": {},
   "outputs": [],
   "source": [
    "# Построим гистограммы распределения каждой из переменных.\n",
    "df.hist(figsize = (20,20) )\n",
    "\n",
    "plt.show()"
   ]
  },
  {
   "cell_type": "code",
   "execution_count": null,
   "id": "5c58cd96",
   "metadata": {},
   "outputs": [],
   "source": [
    "# Проверка, есть ли выбросы на Диаграммах \"ящики с усами\"\n",
    "fig, axs = plt.subplots(13, figsize = (12,15))\n",
    "plt1 = sns.boxplot(df['Соотношение матрица-наполнитель'], ax = axs[0])\n",
    "plt2 = sns.boxplot(df['Плотность, кг/м3'], ax = axs[1])\n",
    "plt3 = sns.boxplot(df['модуль упругости, ГПа'], ax = axs[2])\n",
    "plt4 = sns.boxplot(df['Количество отвердителя, м.%'], ax = axs[3])\n",
    "plt5 = sns.boxplot(df['Содержание эпоксидных групп,%_2'], ax = axs[4])\n",
    "plt6 = sns.boxplot(df['Температура вспышки, С_2'], ax = axs[5])\n",
    "plt7 = sns.boxplot(df['Поверхностная плотность, г/м2'], ax = axs[6])\n",
    "plt8 = sns.boxplot(df['Модуль упругости при растяжении, ГПа'], ax = axs[7])\n",
    "plt9 = sns.boxplot(df['Прочность при растяжении, МПа'], ax = axs[8])\n",
    "plt10 = sns.boxplot(df['Потребление смолы, г/м2'], ax = axs[9])\n",
    "plt11 = sns.boxplot(df['Угол нашивки_мод'], ax = axs[10])\n",
    "plt12 = sns.boxplot(df['Шаг нашивки'], ax = axs[11])\n",
    "plt13 = sns.boxplot(df['Плотность нашивки'], ax = axs[12])\n",
    "plt.tight_layout()"
   ]
  },
  {
   "cell_type": "code",
   "execution_count": null,
   "id": "42b930d2",
   "metadata": {},
   "outputs": [],
   "source": [
    "# Попарные графики рассеяния точек\n",
    "sns.pairplot(df, diag_kind='kde')\n",
    "plt.show()"
   ]
  },
  {
   "cell_type": "code",
   "execution_count": null,
   "id": "717e7d4f",
   "metadata": {},
   "outputs": [],
   "source": [
    "# Построение 3D диаграммы с наиболее коррелируемыми коэффициентами\n",
    "import matplotlib.pyplot as plt\n",
    "import pandas as pd\n",
    "from mpl_toolkits.mplot3d import Axes3D\n",
    "fig = plt.figure()\n",
    "ax = fig.add_subplot(111, projection = '3d')\n",
    "x = df['Количество отвердителя, м.%']\n",
    "y = df['Плотность нашивки']\n",
    "z = df['Угол нашивки_мод']\n",
    "\n",
    "ax.scatter(x, y, z)\n",
    "ax.set_xlabel(\"Количество отвердителя, м.%\")\n",
    "ax.set_ylabel(\"Плотность нашивки\")\n",
    "ax.set_zlabel(\"Угол нашивки_мод\")\n",
    "\n",
    "plt.show()"
   ]
  },
  {
   "cell_type": "code",
   "execution_count": null,
   "id": "d3235fc1",
   "metadata": {},
   "outputs": [],
   "source": [
    "fig = plt.figure()\n",
    "ax1 = fig.add_subplot(111, projection = '3d')\n",
    "x = df['Соотношение матрица-наполнитель']\n",
    "y = df['Потребление смолы, г/м2']\n",
    "z = df['Угол нашивки_мод']\n",
    "ax1.scatter(x, y, z)\n",
    "ax1.set_xlabel(\"Соотношение матрица-наполнитель\")\n",
    "ax1.set_ylabel(\"Потребление смолы, г/м2\")\n",
    "ax1.set_zlabel(\"Угол нашивки_мод\")\n",
    "plt.show()"
   ]
  },
  {
   "cell_type": "code",
   "execution_count": null,
   "id": "9c77bbc2",
   "metadata": {},
   "outputs": [],
   "source": [
    "# Очистка от выбросов"
   ]
  },
  {
   "cell_type": "code",
   "execution_count": null,
   "id": "90962cd3",
   "metadata": {},
   "outputs": [],
   "source": [
    "for columns in df.columns: # создадим переменную для всех столбцов\n",
    "    q75,q25 = np.percentile(df.loc[:,columns],[75,25]) # квантили 25 и 75 %\n",
    "    intr_qr = q75-q25\n",
    "\n",
    "    max = q75+(1.5*intr_qr)\n",
    "    min = q25-(1.5*intr_qr)\n",
    "\n",
    "    df.loc[df[columns] < min,columns] = np.nan\n",
    "    df.loc[df[columns] > max,columns] = np.nan"
   ]
  },
  {
   "cell_type": "code",
   "execution_count": null,
   "id": "0d136cf3",
   "metadata": {},
   "outputs": [],
   "source": [
    "df.isnull().sum() # проверка на пустые значения"
   ]
  },
  {
   "cell_type": "code",
   "execution_count": null,
   "id": "4944fb37",
   "metadata": {},
   "outputs": [],
   "source": [
    "df = df.dropna(axis=0) # удаление пропусков"
   ]
  },
  {
   "cell_type": "code",
   "execution_count": null,
   "id": "071b8d85",
   "metadata": {},
   "outputs": [],
   "source": [
    "df.isnull().sum() # пустые значения удалены"
   ]
  },
  {
   "cell_type": "code",
   "execution_count": null,
   "id": "b356b50d",
   "metadata": {},
   "outputs": [],
   "source": [
    "df.info() # Датасет уменьшился"
   ]
  },
  {
   "cell_type": "code",
   "execution_count": null,
   "id": "cebaadd3",
   "metadata": {},
   "outputs": [],
   "source": [
    "# Проверка как убрались выбросы. Выбросов стало меньше.\n",
    "fig, axs = plt.subplots(13, figsize = (12,15))\n",
    "plt1 = sns.boxplot(df['Соотношение матрица-наполнитель'], ax = axs[0])\n",
    "plt2 = sns.boxplot(df['Плотность, кг/м3'], ax = axs[1])\n",
    "plt3 = sns.boxplot(df['модуль упругости, ГПа'], ax = axs[2])\n",
    "plt4 = sns.boxplot(df['Количество отвердителя, м.%'], ax = axs[3])\n",
    "plt5 = sns.boxplot(df['Содержание эпоксидных групп,%_2'], ax = axs[4])\n",
    "plt6 = sns.boxplot(df['Температура вспышки, С_2'], ax = axs[5])\n",
    "plt7 = sns.boxplot(df['Поверхностная плотность, г/м2'], ax = axs[6])\n",
    "plt8 = sns.boxplot(df['Модуль упругости при растяжении, ГПа'], ax = axs[7])\n",
    "plt9 = sns.boxplot(df['Прочность при растяжении, МПа'], ax = axs[8])\n",
    "plt10 = sns.boxplot(df['Потребление смолы, г/м2'], ax = axs[9])\n",
    "plt11 = sns.boxplot(df['Угол нашивки_мод'], ax = axs[10])\n",
    "plt12 = sns.boxplot(df['Шаг нашивки'], ax = axs[11])\n",
    "plt13 = sns.boxplot(df['Плотность нашивки'], ax = axs[12])\n",
    "plt.tight_layout()"
   ]
  },
  {
   "cell_type": "code",
   "execution_count": null,
   "id": "12227bfe",
   "metadata": {},
   "outputs": [],
   "source": [
    "from sklearn.preprocessing import MinMaxScaler # Импорт метода нормализации"
   ]
  },
  {
   "cell_type": "code",
   "execution_count": null,
   "id": "0b004359",
   "metadata": {},
   "outputs": [],
   "source": [
    "min_max_scaler = MinMaxScaler()\n",
    "df_min_max = pd.DataFrame(min_max_scaler.fit_transform(df), columns = df.columns, index=df.index)"
   ]
  },
  {
   "cell_type": "code",
   "execution_count": null,
   "id": "41c30280",
   "metadata": {},
   "outputs": [],
   "source": [
    "df_min_max.describe()"
   ]
  },
  {
   "cell_type": "code",
   "execution_count": null,
   "id": "14a8bb3a",
   "metadata": {},
   "outputs": [],
   "source": [
    "# Сохраним датасет в папку data с название inner.xlsx.\n",
    "df.to_excel(\"data\\inner.xlsx\")"
   ]
  },
  {
   "cell_type": "code",
   "execution_count": null,
   "id": "b1846418",
   "metadata": {},
   "outputs": [],
   "source": [
    "# Модели для прогноза модуля упругости при растяжении и прочности при растяжении"
   ]
  },
  {
   "cell_type": "code",
   "execution_count": null,
   "id": "9a126c3b",
   "metadata": {},
   "outputs": [],
   "source": [
    "# Метод К ближайших соседей"
   ]
  },
  {
   "cell_type": "code",
   "execution_count": null,
   "id": "a7a9fe7d",
   "metadata": {},
   "outputs": [],
   "source": [
    "# переменная x_MU - это Модуль упругости при растяжении\n",
    "# переменная x_PR - это Прочность при растяжении\n",
    "\n",
    "# убираем столбец Модуль упругости при растяжении, ГПа МПа из пронога\n",
    "x_MU = df_min_max.drop(['Модуль упругости при растяжении, ГПа'], axis=1)\n",
    "\n",
    "# убираем столбец Прочность при растяжении, МПа из пронога\n",
    "x_PR = df_min_max.drop(['Прочность при растяжении, МПа'], axis=1)\n",
    "\n",
    "# Присваиваем значения столбцов перемнным y_MU и y_PR \n",
    "y_MU = df_min_max[['Модуль упругости при растяжении, ГПа']]\n",
    "y_PR = df_min_max[['Прочность при растяжении, МПа']]\n",
    "\n",
    "# разделяем выборку на тестовую и обучающую, размер 30%\n",
    "X_train_MU, X_test_MU, y_train_MU, y_test_MU = train_test_split(x_MU, y_MU, test_size=0.3, random_state=1)\n",
    "X_train_PR, X_test_PR, y_train_PR, y_test_PR = train_test_split(x_PR, y_PR, test_size=0.3, random_state=1)"
   ]
  },
  {
   "cell_type": "code",
   "execution_count": null,
   "id": "8d759d6a",
   "metadata": {},
   "outputs": [],
   "source": [
    "K = KNeighborsRegressor()\n",
    "K_params = {'n_neighbors' : range(1, 301, 2), \n",
    "          'weights' : ['uniform', 'distance'],\n",
    "          'algorithm' : ['auto']\n",
    "          }\n",
    "Grid_K_MU = GridSearchCV(K, K_params, n_jobs=-1, cv=10)\n",
    "Grid_K_MU.fit(X_train_MU, y_train_MU) # обучение модели методом fit и данными\n",
    "Grid_K_MU.best_params_ # вывод результата"
   ]
  },
  {
   "cell_type": "code",
   "execution_count": null,
   "id": "d1960372",
   "metadata": {},
   "outputs": [],
   "source": [
    "K_MU = Grid_K_MU.best_estimator_\n",
    "print(f'R2-score KNR для Модуля упругости при растяжении: {K_MU.score(X_test_MU, y_test_MU).round(4)}')"
   ]
  },
  {
   "cell_type": "code",
   "execution_count": null,
   "id": "770f3cf3",
   "metadata": {},
   "outputs": [],
   "source": [
    "models = pd.DataFrame()"
   ]
  },
  {
   "cell_type": "code",
   "execution_count": null,
   "id": "6bfb3f97",
   "metadata": {},
   "outputs": [],
   "source": [
    "K_MU_result = pd.DataFrame({\n",
    "   'Model': 'KNeighborsRegressor_MU', \n",
    "   'MAE': mean_absolute_error(y_test_MU, K_MU.predict(X_test_MU)), \n",
    "   'R2 score': K_MU.score(X_test_MU, y_test_MU).round(3)\n",
    "}, index=['Модуль упругости при растяжении, ГПа'])"
   ]
  },
  {
   "cell_type": "code",
   "execution_count": null,
   "id": "97eac0b5",
   "metadata": {},
   "outputs": [],
   "source": [
    "models = pd.concat([models, K_MU_result])\n",
    "models"
   ]
  },
  {
   "cell_type": "code",
   "execution_count": null,
   "id": "f40f97d4",
   "metadata": {},
   "outputs": [],
   "source": [
    "# Случайный лес"
   ]
  },
  {
   "cell_type": "code",
   "execution_count": null,
   "id": "5a4a63e7",
   "metadata": {},
   "outputs": [],
   "source": [
    "# Модуль упругости при растяжении, ГПа"
   ]
  },
  {
   "cell_type": "code",
   "execution_count": null,
   "id": "3aa799ab",
   "metadata": {},
   "outputs": [],
   "source": [
    "forest = RandomForestRegressor()\n",
    "forest_params = {\n",
    "    'n_estimators' : range(10, 1000, 10),\n",
    "    'criterion' : ['squared_error', 'absolute_error', 'poisson'],\n",
    "    'max_depth' : range(1, 7),\n",
    "    'min_samples_split' : range(20, 50, 5),\n",
    "    'min_samples_leaf' : range(2, 8),\n",
    "    'bootstrap' : ['True', 'False']\n",
    "}\n",
    "forest_MU = RandomizedSearchCV(forest, forest_params, n_jobs=-1, cv=10, verbose=1)\n",
    "forest_MU.fit(X_train_MU, np.ravel(y_train_MU))\n",
    "forest_MU.best_params_"
   ]
  },
  {
   "cell_type": "code",
   "execution_count": null,
   "id": "504c961d",
   "metadata": {},
   "outputs": [],
   "source": [
    "forest_MU = forest_MU.best_estimator_\n",
    "print(f'R2-score RFR для модуля упругости при растяжении: {forest_MU.score(X_test_MU, y_test_MU).round(3)}')"
   ]
  },
  {
   "cell_type": "code",
   "execution_count": null,
   "id": "714dffc4",
   "metadata": {},
   "outputs": [],
   "source": [
    "# Прочность при растяжении, МПа"
   ]
  },
  {
   "cell_type": "code",
   "execution_count": null,
   "id": "b7915fd7",
   "metadata": {},
   "outputs": [],
   "source": [
    "forest = RandomForestRegressor()\n",
    "forest_params = {\n",
    "    'n_estimators' : range(10, 1000, 10),\n",
    "    'criterion' : ['squared_error', 'absolute_error', 'poisson'],\n",
    "    'max_depth' : range(1, 7),\n",
    "    'min_samples_split' : range(20, 50, 5),\n",
    "    'min_samples_leaf' : range(2, 8),\n",
    "    'bootstrap' : ['True', 'False']\n",
    "}\n",
    "forest_PR = RandomizedSearchCV(forest, forest_params, n_jobs=-1, cv=10, verbose=1)\n",
    "forest_PR.fit(X_train_PR, np.ravel(y_train_PR))\n",
    "forest_PR.best_params_"
   ]
  },
  {
   "cell_type": "code",
   "execution_count": null,
   "id": "29ae8b83",
   "metadata": {},
   "outputs": [],
   "source": [
    "forest_PR = forest_PR.best_estimator_\n",
    "print(f'R2-score RFR для прочности при растяжении: {forest_PR.score(X_test_PR, y_test_PR).round(3)}')"
   ]
  },
  {
   "cell_type": "code",
   "execution_count": null,
   "id": "8edc9b4a",
   "metadata": {},
   "outputs": [],
   "source": [
    "# Построение Нейронной сети"
   ]
  },
  {
   "cell_type": "code",
   "execution_count": 1,
   "id": "940462fa",
   "metadata": {},
   "outputs": [],
   "source": [
    "# 2 скрытых слоя по 8 нейронов.\n",
    "\n",
    "# ИМПОРТ\n",
    "#import tensorflow_decision_forests as tfdf\n",
    "\n",
    "import os\n",
    "import tensorflow as tf\n",
    "import math\n",
    "\n",
    "import pandas as pd \n",
    "import numpy as np\n",
    "import scipy\n",
    "\n",
    "# sklearn\n",
    "from sklearn.model_selection import train_test_split\n",
    "from sklearn.preprocessing import LabelEncoder\n",
    "from sklearn.metrics import accuracy_score\n",
    "\n",
    "# tensor flow - глубокое обучение\n",
    "from tensorflow.keras import Sequential\n",
    "from tensorflow.keras.layers import Dense\n",
    "from tensorflow.keras import layers\n",
    "from tensorflow.keras.preprocessing import image_dataset_from_directory\n",
    "\n",
    "\n",
    "# для визуализации\n",
    "from matplotlib import pyplot\n",
    "\n",
    "%matplotlib inline"
   ]
  },
  {
   "cell_type": "code",
   "execution_count": 2,
   "id": "a6cd3f1b",
   "metadata": {},
   "outputs": [
    {
     "data": {
      "text/html": [
       "<div>\n",
       "<style scoped>\n",
       "    .dataframe tbody tr th:only-of-type {\n",
       "        vertical-align: middle;\n",
       "    }\n",
       "\n",
       "    .dataframe tbody tr th {\n",
       "        vertical-align: top;\n",
       "    }\n",
       "\n",
       "    .dataframe thead th {\n",
       "        text-align: right;\n",
       "    }\n",
       "</style>\n",
       "<table border=\"1\" class=\"dataframe\">\n",
       "  <thead>\n",
       "    <tr style=\"text-align: right;\">\n",
       "      <th></th>\n",
       "      <th>Соотношение матрица-наполнитель</th>\n",
       "      <th>Плотность, кг/м3</th>\n",
       "      <th>модуль упругости, ГПа</th>\n",
       "      <th>Количество отвердителя, м.%</th>\n",
       "      <th>Содержание эпоксидных групп,%_2</th>\n",
       "      <th>Температура вспышки, С_2</th>\n",
       "      <th>Поверхностная плотность, г/м2</th>\n",
       "      <th>Модуль упругости при растяжении, ГПа</th>\n",
       "      <th>Прочность при растяжении, МПа</th>\n",
       "      <th>Потребление смолы, г/м2</th>\n",
       "      <th>Угол нашивки_мод</th>\n",
       "      <th>Шаг нашивки</th>\n",
       "      <th>Плотность нашивки</th>\n",
       "    </tr>\n",
       "  </thead>\n",
       "  <tbody>\n",
       "    <tr>\n",
       "      <th>1</th>\n",
       "      <td>1.857143</td>\n",
       "      <td>2030.0</td>\n",
       "      <td>738.736842</td>\n",
       "      <td>50.00</td>\n",
       "      <td>23.750000</td>\n",
       "      <td>284.615385</td>\n",
       "      <td>210.0</td>\n",
       "      <td>70.0</td>\n",
       "      <td>3000.0</td>\n",
       "      <td>220.0</td>\n",
       "      <td>0</td>\n",
       "      <td>4.0</td>\n",
       "      <td>60.0</td>\n",
       "    </tr>\n",
       "    <tr>\n",
       "      <th>3</th>\n",
       "      <td>1.857143</td>\n",
       "      <td>2030.0</td>\n",
       "      <td>738.736842</td>\n",
       "      <td>129.00</td>\n",
       "      <td>21.250000</td>\n",
       "      <td>300.000000</td>\n",
       "      <td>210.0</td>\n",
       "      <td>70.0</td>\n",
       "      <td>3000.0</td>\n",
       "      <td>220.0</td>\n",
       "      <td>0</td>\n",
       "      <td>5.0</td>\n",
       "      <td>47.0</td>\n",
       "    </tr>\n",
       "    <tr>\n",
       "      <th>4</th>\n",
       "      <td>2.771331</td>\n",
       "      <td>2030.0</td>\n",
       "      <td>753.000000</td>\n",
       "      <td>111.86</td>\n",
       "      <td>22.267857</td>\n",
       "      <td>284.615385</td>\n",
       "      <td>210.0</td>\n",
       "      <td>70.0</td>\n",
       "      <td>3000.0</td>\n",
       "      <td>220.0</td>\n",
       "      <td>0</td>\n",
       "      <td>5.0</td>\n",
       "      <td>57.0</td>\n",
       "    </tr>\n",
       "    <tr>\n",
       "      <th>5</th>\n",
       "      <td>2.767918</td>\n",
       "      <td>2000.0</td>\n",
       "      <td>748.000000</td>\n",
       "      <td>111.86</td>\n",
       "      <td>22.267857</td>\n",
       "      <td>284.615385</td>\n",
       "      <td>210.0</td>\n",
       "      <td>70.0</td>\n",
       "      <td>3000.0</td>\n",
       "      <td>220.0</td>\n",
       "      <td>0</td>\n",
       "      <td>5.0</td>\n",
       "      <td>60.0</td>\n",
       "    </tr>\n",
       "    <tr>\n",
       "      <th>6</th>\n",
       "      <td>2.569620</td>\n",
       "      <td>1910.0</td>\n",
       "      <td>807.000000</td>\n",
       "      <td>111.86</td>\n",
       "      <td>22.267857</td>\n",
       "      <td>284.615385</td>\n",
       "      <td>210.0</td>\n",
       "      <td>70.0</td>\n",
       "      <td>3000.0</td>\n",
       "      <td>220.0</td>\n",
       "      <td>0</td>\n",
       "      <td>5.0</td>\n",
       "      <td>70.0</td>\n",
       "    </tr>\n",
       "  </tbody>\n",
       "</table>\n",
       "</div>"
      ],
      "text/plain": [
       "   Соотношение матрица-наполнитель  Плотность, кг/м3  модуль упругости, ГПа  \\\n",
       "1                         1.857143            2030.0             738.736842   \n",
       "3                         1.857143            2030.0             738.736842   \n",
       "4                         2.771331            2030.0             753.000000   \n",
       "5                         2.767918            2000.0             748.000000   \n",
       "6                         2.569620            1910.0             807.000000   \n",
       "\n",
       "   Количество отвердителя, м.%  Содержание эпоксидных групп,%_2  \\\n",
       "1                        50.00                        23.750000   \n",
       "3                       129.00                        21.250000   \n",
       "4                       111.86                        22.267857   \n",
       "5                       111.86                        22.267857   \n",
       "6                       111.86                        22.267857   \n",
       "\n",
       "   Температура вспышки, С_2  Поверхностная плотность, г/м2  \\\n",
       "1                284.615385                          210.0   \n",
       "3                300.000000                          210.0   \n",
       "4                284.615385                          210.0   \n",
       "5                284.615385                          210.0   \n",
       "6                284.615385                          210.0   \n",
       "\n",
       "   Модуль упругости при растяжении, ГПа  Прочность при растяжении, МПа  \\\n",
       "1                                  70.0                         3000.0   \n",
       "3                                  70.0                         3000.0   \n",
       "4                                  70.0                         3000.0   \n",
       "5                                  70.0                         3000.0   \n",
       "6                                  70.0                         3000.0   \n",
       "\n",
       "   Потребление смолы, г/м2  Угол нашивки_мод  Шаг нашивки  Плотность нашивки  \n",
       "1                    220.0                 0          4.0               60.0  \n",
       "3                    220.0                 0          5.0               47.0  \n",
       "4                    220.0                 0          5.0               57.0  \n",
       "5                    220.0                 0          5.0               60.0  \n",
       "6                    220.0                 0          5.0               70.0  "
      ]
     },
     "execution_count": 2,
     "metadata": {},
     "output_type": "execute_result"
    }
   ],
   "source": [
    "# ЗАГРУЗКА ФАЙЛОВ\n",
    "path = r'C:\\users\\leon-\\BKP\\data\\inner.xlsx'\n",
    "df = pd.read_excel(path, header=0, index_col = 0)\n",
    "df.head(5)"
   ]
  },
  {
   "cell_type": "code",
   "execution_count": 3,
   "id": "7200f05d",
   "metadata": {},
   "outputs": [
    {
     "name": "stdout",
     "output_type": "stream",
     "text": [
      "<class 'pandas.core.frame.DataFrame'>\n",
      "Int64Index: 936 entries, 1 to 1022\n",
      "Data columns (total 13 columns):\n",
      " #   Column                                Non-Null Count  Dtype  \n",
      "---  ------                                --------------  -----  \n",
      " 0   Соотношение матрица-наполнитель       936 non-null    float64\n",
      " 1   Плотность, кг/м3                      936 non-null    float64\n",
      " 2   модуль упругости, ГПа                 936 non-null    float64\n",
      " 3   Количество отвердителя, м.%           936 non-null    float64\n",
      " 4   Содержание эпоксидных групп,%_2       936 non-null    float64\n",
      " 5   Температура вспышки, С_2              936 non-null    float64\n",
      " 6   Поверхностная плотность, г/м2         936 non-null    float64\n",
      " 7   Модуль упругости при растяжении, ГПа  936 non-null    float64\n",
      " 8   Прочность при растяжении, МПа         936 non-null    float64\n",
      " 9   Потребление смолы, г/м2               936 non-null    float64\n",
      " 10  Угол нашивки_мод                      936 non-null    int64  \n",
      " 11  Шаг нашивки                           936 non-null    float64\n",
      " 12  Плотность нашивки                     936 non-null    float64\n",
      "dtypes: float64(12), int64(1)\n",
      "memory usage: 102.4 KB\n"
     ]
    }
   ],
   "source": [
    "df.info() # общая информация о датасете и типы данных"
   ]
  },
  {
   "cell_type": "code",
   "execution_count": 4,
   "id": "370990e1",
   "metadata": {},
   "outputs": [
    {
     "data": {
      "text/plain": [
       "1    479\n",
       "0    457\n",
       "Name: Угол нашивки_мод, dtype: int64"
      ]
     },
     "execution_count": 4,
     "metadata": {},
     "output_type": "execute_result"
    }
   ],
   "source": [
    "df['Угол нашивки_мод'].value_counts()  # количество уникальных значений "
   ]
  },
  {
   "cell_type": "code",
   "execution_count": 5,
   "id": "788f10a0",
   "metadata": {},
   "outputs": [],
   "source": [
    "##Создание выборок\n",
    "# Создаем х и у\n",
    "X, y = df.values[:, : -1], df.values[:, -1]"
   ]
  },
  {
   "cell_type": "code",
   "execution_count": 6,
   "id": "12f74ed3",
   "metadata": {},
   "outputs": [],
   "source": [
    "# LabelEncoder для у\n",
    "\n",
    "y= LabelEncoder().fit_transform(y) # обучим у командой fit_transform"
   ]
  },
  {
   "cell_type": "code",
   "execution_count": 7,
   "id": "c37f2e74",
   "metadata": {},
   "outputs": [],
   "source": [
    "# Создание тестовой и обучающей выборки\n",
    "\n",
    "X_train, X_test, y_train, y_test = train_test_split(X, y, test_size= 0.3, shuffle = True)\n",
    "# X, y - передаем параметры, test_size= 0.3 - размер тестовой выборки, shuffle = true -перемешивание датасета"
   ]
  },
  {
   "cell_type": "code",
   "execution_count": 8,
   "id": "95022e3f",
   "metadata": {},
   "outputs": [
    {
     "name": "stdout",
     "output_type": "stream",
     "text": [
      "(655, 12)\n",
      "(281, 12)\n",
      "(655,)\n",
      "(281,)\n"
     ]
    }
   ],
   "source": [
    "print(X_train.shape) #проверим размерность выборок должно совпадать\n",
    "print(X_test.shape)\n",
    "print(y_train.shape)\n",
    "print(y_test.shape)"
   ]
  },
  {
   "cell_type": "code",
   "execution_count": 9,
   "id": "140d4804",
   "metadata": {},
   "outputs": [],
   "source": [
    "import numpy as np\n",
    "import matplotlib.pyplot as plt\n",
    "from sklearn.datasets import fetch_openml\n",
    "from sklearn.multioutput import ClassifierChain\n",
    "from sklearn.model_selection import train_test_split\n",
    "from sklearn.multiclass import OneVsRestClassifier\n",
    "from sklearn.metrics import jaccard_score\n",
    "from sklearn.linear_model import LogisticRegression"
   ]
  },
  {
   "cell_type": "code",
   "execution_count": 10,
   "id": "913536c8",
   "metadata": {},
   "outputs": [],
   "source": [
    "normalizer = tf.keras.layers.Normalization(axis=-1) # нормализация данных\n",
    "normalizer.adapt(np.array(X))"
   ]
  },
  {
   "cell_type": "code",
   "execution_count": 12,
   "id": "42d24ee6",
   "metadata": {},
   "outputs": [
    {
     "name": "stdout",
     "output_type": "stream",
     "text": [
      "Epoch 1/50\n",
      "21/21 [==============================] - 1s 6ms/step - loss: 90.5834 - val_loss: 68.3285\n",
      "Epoch 2/50\n",
      "21/21 [==============================] - 0s 2ms/step - loss: -12.5027 - val_loss: -36.2058\n",
      "Epoch 3/50\n",
      "21/21 [==============================] - 0s 2ms/step - loss: -115.9516 - val_loss: -138.2223\n",
      "Epoch 4/50\n",
      "21/21 [==============================] - 0s 2ms/step - loss: -218.7922 - val_loss: -247.1125\n",
      "Epoch 5/50\n",
      "21/21 [==============================] - 0s 2ms/step - loss: -330.5446 - val_loss: -362.4337\n",
      "Epoch 6/50\n",
      "21/21 [==============================] - 0s 2ms/step - loss: -451.2466 - val_loss: -488.4623\n",
      "Epoch 7/50\n",
      "21/21 [==============================] - 0s 2ms/step - loss: -586.1511 - val_loss: -627.7607\n",
      "Epoch 8/50\n",
      "21/21 [==============================] - 0s 2ms/step - loss: -737.7064 - val_loss: -787.7704\n",
      "Epoch 9/50\n",
      "21/21 [==============================] - 0s 2ms/step - loss: -914.1484 - val_loss: -969.5104\n",
      "Epoch 10/50\n",
      "21/21 [==============================] - 0s 2ms/step - loss: -1117.7183 - val_loss: -1178.8918\n",
      "Epoch 11/50\n",
      "21/21 [==============================] - 0s 2ms/step - loss: -1355.9578 - val_loss: -1425.7982\n",
      "Epoch 12/50\n",
      "21/21 [==============================] - 0s 2ms/step - loss: -1634.9189 - val_loss: -1712.0103\n",
      "Epoch 13/50\n",
      "21/21 [==============================] - 0s 2ms/step - loss: -1957.7559 - val_loss: -2044.9370\n",
      "Epoch 14/50\n",
      "21/21 [==============================] - 0s 2ms/step - loss: -2331.6846 - val_loss: -2433.8091\n",
      "Epoch 15/50\n",
      "21/21 [==============================] - 0s 2ms/step - loss: -2769.8020 - val_loss: -2878.4216\n",
      "Epoch 16/50\n",
      "21/21 [==============================] - 0s 2ms/step - loss: -3268.4512 - val_loss: -3390.7251\n",
      "Epoch 17/50\n",
      "21/21 [==============================] - 0s 2ms/step - loss: -3839.7434 - val_loss: -3966.3804\n",
      "Epoch 18/50\n",
      "21/21 [==============================] - 0s 2ms/step - loss: -4487.0947 - val_loss: -4617.8032\n",
      "Epoch 19/50\n",
      "21/21 [==============================] - 0s 2ms/step - loss: -5206.5322 - val_loss: -5340.8862\n",
      "Epoch 20/50\n",
      "21/21 [==============================] - 0s 2ms/step - loss: -6007.2056 - val_loss: -6148.9644\n",
      "Epoch 21/50\n",
      "21/21 [==============================] - 0s 2ms/step - loss: -6903.0327 - val_loss: -7038.8374\n",
      "Epoch 22/50\n",
      "21/21 [==============================] - 0s 2ms/step - loss: -7896.9990 - val_loss: -8044.2295\n",
      "Epoch 23/50\n",
      "21/21 [==============================] - 0s 2ms/step - loss: -9029.1904 - val_loss: -9176.2637\n",
      "Epoch 24/50\n",
      "21/21 [==============================] - 0s 2ms/step - loss: -10291.0791 - val_loss: -10435.7803\n",
      "Epoch 25/50\n",
      "21/21 [==============================] - 0s 2ms/step - loss: -11677.6543 - val_loss: -11839.7100\n",
      "Epoch 26/50\n",
      "21/21 [==============================] - 0s 2ms/step - loss: -13237.4580 - val_loss: -13345.3115\n",
      "Epoch 27/50\n",
      "21/21 [==============================] - 0s 2ms/step - loss: -14898.3252 - val_loss: -15009.4824\n",
      "Epoch 28/50\n",
      "21/21 [==============================] - 0s 2ms/step - loss: -16746.6016 - val_loss: -16807.6348\n",
      "Epoch 29/50\n",
      "21/21 [==============================] - 0s 2ms/step - loss: -18723.7871 - val_loss: -18749.8359\n",
      "Epoch 30/50\n",
      "21/21 [==============================] - 0s 2ms/step - loss: -20860.5195 - val_loss: -20820.5078\n",
      "Epoch 31/50\n",
      "21/21 [==============================] - 0s 2ms/step - loss: -23143.0254 - val_loss: -23056.2637\n",
      "Epoch 32/50\n",
      "21/21 [==============================] - 0s 2ms/step - loss: -25574.9844 - val_loss: -25437.7871\n",
      "Epoch 33/50\n",
      "21/21 [==============================] - 0s 2ms/step - loss: -28217.6738 - val_loss: -27915.5527\n",
      "Epoch 34/50\n",
      "21/21 [==============================] - 0s 2ms/step - loss: -30945.8008 - val_loss: -30640.2734\n",
      "Epoch 35/50\n",
      "21/21 [==============================] - 0s 2ms/step - loss: -33922.4102 - val_loss: -33465.9141\n",
      "Epoch 36/50\n",
      "21/21 [==============================] - 0s 2ms/step - loss: -37008.1328 - val_loss: -36486.8047\n",
      "Epoch 37/50\n",
      "21/21 [==============================] - 0s 2ms/step - loss: -40330.4648 - val_loss: -39635.4688\n",
      "Epoch 38/50\n",
      "21/21 [==============================] - 0s 2ms/step - loss: -43805.7812 - val_loss: -43001.7695\n",
      "Epoch 39/50\n",
      "21/21 [==============================] - 0s 2ms/step - loss: -47500.9336 - val_loss: -46478.1328\n",
      "Epoch 40/50\n",
      "21/21 [==============================] - 0s 2ms/step - loss: -51332.8242 - val_loss: -50197.0781\n",
      "Epoch 41/50\n",
      "21/21 [==============================] - 0s 2ms/step - loss: -55375.0430 - val_loss: -54085.9766\n",
      "Epoch 42/50\n",
      "21/21 [==============================] - 0s 2ms/step - loss: -59634.6914 - val_loss: -58111.6484\n",
      "Epoch 43/50\n",
      "21/21 [==============================] - 0s 2ms/step - loss: -64095.5234 - val_loss: -62295.0547\n",
      "Epoch 44/50\n",
      "21/21 [==============================] - 0s 2ms/step - loss: -68707.1562 - val_loss: -66782.3594\n",
      "Epoch 45/50\n",
      "21/21 [==============================] - 0s 2ms/step - loss: -73578.3906 - val_loss: -71425.6406\n",
      "Epoch 46/50\n",
      "21/21 [==============================] - 0s 2ms/step - loss: -78654.5703 - val_loss: -76154.9375\n",
      "Epoch 47/50\n",
      "21/21 [==============================] - 0s 2ms/step - loss: -83904.5391 - val_loss: -81118.2812\n",
      "Epoch 48/50\n",
      "21/21 [==============================] - 0s 2ms/step - loss: -89398.8828 - val_loss: -86273.1406\n",
      "Epoch 49/50\n",
      "21/21 [==============================] - 0s 2ms/step - loss: -95048.3750 - val_loss: -91643.9766\n",
      "Epoch 50/50\n",
      "21/21 [==============================] - 0s 2ms/step - loss: -100953.0391 - val_loss: -97176.0156\n",
      "9/9 [==============================] - 0s 873us/step\n",
      "Accuracy(точность):  0.0035587188612099642\n"
     ]
    },
    {
     "data": {
      "image/png": "[encoded data removed]",
      "text/plain": [
       "<Figure size 640x480 with 1 Axes>"
      ]
     },
     "metadata": {},
     "output_type": "display_data"
    }
   ],
   "source": [
    "#Нейронная сеть\n",
    "# 2 скрытых слоя по 8 нейронов.\n",
    "n_features = X.shape[1] # размерность Х\n",
    "\n",
    "model = Sequential() # модель последовательная\n",
    "model.add(normalizer)\n",
    "model.add(Dense(8, activation = 'relu', input_shape = (n_features,  ))) # input_shape - Входная размерность в Х\n",
    "model.add(Dense(8, activation = 'relu'))\n",
    "\n",
    "\n",
    "# выходной слой\n",
    "model.add(Dense(1, activation = 'sigmoid'))\n",
    "\n",
    "# Компилирование \n",
    "#model.compile(optimizer = 'adam', loss = 'binary_crossentropy')\n",
    "\n",
    "model.compile(optimizer=tf.keras.optimizers.Adam(learning_rate=0.0008),\n",
    "              loss=tf.keras.losses.BinaryCrossentropy())\n",
    "\n",
    "# Обучение модели\n",
    "\n",
    "history = model.fit(X_train, y_train,\n",
    "                    epochs = 50,\n",
    "                    batch_size = 32,\n",
    "                    verbose = 1,\n",
    "                    validation_data = (X_test, y_test))\n",
    "\n",
    "# predict test_set\n",
    "yhat = model.predict(X_test)\n",
    "#model.predict(tf_serving_dataset, verbose=0)[:10]\n",
    "\n",
    "# подсчет прогноза\n",
    "score = accuracy_score(y_test, yhat)\n",
    "print ('Accuracy(точность): ', score)\n",
    "# визуализация процесса обучения\n",
    "pyplot.title('Обучение')\n",
    "pyplot.xlabel('epochs') # по оси х - эпохи\n",
    "pyplot.ylabel('Cross_entropy') # по оси у - ошибка\n",
    "pyplot.plot(history.history['loss'], label = 'train')\n",
    "pyplot.plot(history.history['val_loss'], label = 'val')\n",
    "pyplot.legend()\n",
    "pyplot.show()"
   ]
  },
  {
   "cell_type": "code",
   "execution_count": 13,
   "id": "1ec9a26e",
   "metadata": {},
   "outputs": [
    {
     "name": "stdout",
     "output_type": "stream",
     "text": [
      "Accuracy:  0.0035587188612099642\n"
     ]
    }
   ],
   "source": [
    "print ('Accuracy: ', score)"
   ]
  },
  {
   "cell_type": "code",
   "execution_count": 14,
   "id": "7f86f469",
   "metadata": {},
   "outputs": [
    {
     "name": "stdout",
     "output_type": "stream",
     "text": [
      "Model: \"sequential_1\"\n",
      "_________________________________________________________________\n",
      " Layer (type)                Output Shape              Param #   \n",
      "=================================================================\n",
      " normalization (Normalizatio  (None, 12)               25        \n",
      " n)                                                              \n",
      "                                                                 \n",
      " dense_3 (Dense)             (None, 8)                 104       \n",
      "                                                                 \n",
      " dense_4 (Dense)             (None, 8)                 72        \n",
      "                                                                 \n",
      " dense_5 (Dense)             (None, 1)                 9         \n",
      "                                                                 \n",
      "=================================================================\n",
      "Total params: 210\n",
      "Trainable params: 185\n",
      "Non-trainable params: 25\n",
      "_________________________________________________________________\n"
     ]
    }
   ],
   "source": [
    "model.summary()"
   ]
  },
  {
   "cell_type": "code",
   "execution_count": null,
   "id": "255e74f8",
   "metadata": {},
   "outputs": [],
   "source": []
  }
 ],
 "metadata": {
  "kernelspec": {
   "display_name": "Python 3 (ipykernel)",
   "language": "python",
   "name": "python3"
  },
  "language_info": {
   "codemirror_mode": {
    "name": "ipython",
    "version": 3
   },
   "file_extension": ".py",
   "mimetype": "text/x-python",
   "name": "python",
   "nbconvert_exporter": "python",
   "pygments_lexer": "ipython3",
   "version": "3.9.13"
  }
 },
 "nbformat": 4,
 "nbformat_minor": 5
}
